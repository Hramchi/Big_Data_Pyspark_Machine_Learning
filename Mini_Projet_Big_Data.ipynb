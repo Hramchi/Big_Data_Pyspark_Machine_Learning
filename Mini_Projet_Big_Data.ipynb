{
 "cells": [
  {
   "cell_type": "code",
   "execution_count": null,
   "metadata": {},
   "outputs": [],
   "source": [
    "#importer findspark\n",
    "import findspark\n",
    "findspark.init()"
   ]
  },
  {
   "cell_type": "code",
   "execution_count": 4,
   "metadata": {},
   "outputs": [],
   "source": [
    "#importer pyspark\n",
    "import pyspark\n",
    "from pyspark.sql import SparkSession , SparkContext"
   ]
  },
  {
   "cell_type": "code",
   "execution_count": 5,
   "metadata": {},
   "outputs": [],
   "source": [
    "#crée une session spark\n",
    "spark = SparkSession.builder.appName(\"assurance\").getOrCreate()"
   ]
  },
  {
   "cell_type": "code",
   "execution_count": 8,
   "metadata": {},
   "outputs": [
    {
     "data": {
      "text/html": [
       "<table border='1'>\n",
       "<tr><th>id</th><th>Gender</th><th>Age</th><th>Driving_License</th><th>Region_Code</th><th>Previously_Insured</th><th>Vehicle_Age</th><th>Vehicle_Damage</th><th>Annual_Premium</th><th>Policy_Sales_Channel</th><th>Vintage</th><th>Response</th></tr>\n",
       "<tr><td>1</td><td>Male</td><td>44</td><td>1</td><td>28.0</td><td>0</td><td>&gt; 2 Years</td><td>Yes</td><td>40454.0</td><td>26.0</td><td>217</td><td>1</td></tr>\n",
       "<tr><td>2</td><td>Male</td><td>76</td><td>1</td><td>3.0</td><td>0</td><td>1-2 Year</td><td>No</td><td>33536.0</td><td>26.0</td><td>183</td><td>0</td></tr>\n",
       "<tr><td>3</td><td>Male</td><td>47</td><td>1</td><td>28.0</td><td>0</td><td>&gt; 2 Years</td><td>Yes</td><td>38294.0</td><td>26.0</td><td>27</td><td>1</td></tr>\n",
       "<tr><td>4</td><td>Male</td><td>21</td><td>1</td><td>11.0</td><td>1</td><td>&lt; 1 Year</td><td>No</td><td>28619.0</td><td>152.0</td><td>203</td><td>0</td></tr>\n",
       "<tr><td>5</td><td>Female</td><td>29</td><td>1</td><td>41.0</td><td>1</td><td>&lt; 1 Year</td><td>No</td><td>27496.0</td><td>152.0</td><td>39</td><td>0</td></tr>\n",
       "<tr><td>6</td><td>Female</td><td>24</td><td>1</td><td>33.0</td><td>0</td><td>&lt; 1 Year</td><td>Yes</td><td>2630.0</td><td>160.0</td><td>176</td><td>0</td></tr>\n",
       "<tr><td>7</td><td>Male</td><td>23</td><td>1</td><td>11.0</td><td>0</td><td>&lt; 1 Year</td><td>Yes</td><td>23367.0</td><td>152.0</td><td>249</td><td>0</td></tr>\n",
       "<tr><td>8</td><td>Female</td><td>56</td><td>1</td><td>28.0</td><td>0</td><td>1-2 Year</td><td>Yes</td><td>32031.0</td><td>26.0</td><td>72</td><td>1</td></tr>\n",
       "<tr><td>9</td><td>Female</td><td>24</td><td>1</td><td>3.0</td><td>1</td><td>&lt; 1 Year</td><td>No</td><td>27619.0</td><td>152.0</td><td>28</td><td>0</td></tr>\n",
       "<tr><td>10</td><td>Female</td><td>32</td><td>1</td><td>6.0</td><td>1</td><td>&lt; 1 Year</td><td>No</td><td>28771.0</td><td>152.0</td><td>80</td><td>0</td></tr>\n",
       "<tr><td>11</td><td>Female</td><td>47</td><td>1</td><td>35.0</td><td>0</td><td>1-2 Year</td><td>Yes</td><td>47576.0</td><td>124.0</td><td>46</td><td>1</td></tr>\n",
       "<tr><td>12</td><td>Female</td><td>24</td><td>1</td><td>50.0</td><td>1</td><td>&lt; 1 Year</td><td>No</td><td>48699.0</td><td>152.0</td><td>289</td><td>0</td></tr>\n",
       "<tr><td>13</td><td>Female</td><td>41</td><td>1</td><td>15.0</td><td>1</td><td>1-2 Year</td><td>No</td><td>31409.0</td><td>14.0</td><td>221</td><td>0</td></tr>\n",
       "<tr><td>14</td><td>Male</td><td>76</td><td>1</td><td>28.0</td><td>0</td><td>1-2 Year</td><td>Yes</td><td>36770.0</td><td>13.0</td><td>15</td><td>0</td></tr>\n",
       "<tr><td>15</td><td>Male</td><td>71</td><td>1</td><td>28.0</td><td>1</td><td>1-2 Year</td><td>No</td><td>46818.0</td><td>30.0</td><td>58</td><td>0</td></tr>\n",
       "<tr><td>16</td><td>Male</td><td>37</td><td>1</td><td>6.0</td><td>0</td><td>1-2 Year</td><td>Yes</td><td>2630.0</td><td>156.0</td><td>147</td><td>1</td></tr>\n",
       "<tr><td>17</td><td>Female</td><td>25</td><td>1</td><td>45.0</td><td>0</td><td>&lt; 1 Year</td><td>Yes</td><td>26218.0</td><td>160.0</td><td>256</td><td>0</td></tr>\n",
       "<tr><td>18</td><td>Female</td><td>25</td><td>1</td><td>35.0</td><td>1</td><td>&lt; 1 Year</td><td>No</td><td>46622.0</td><td>152.0</td><td>299</td><td>0</td></tr>\n",
       "<tr><td>19</td><td>Male</td><td>42</td><td>1</td><td>28.0</td><td>0</td><td>1-2 Year</td><td>Yes</td><td>33667.0</td><td>124.0</td><td>158</td><td>0</td></tr>\n",
       "<tr><td>20</td><td>Female</td><td>60</td><td>1</td><td>33.0</td><td>0</td><td>1-2 Year</td><td>Yes</td><td>32363.0</td><td>124.0</td><td>102</td><td>1</td></tr>\n",
       "</table>\n",
       "only showing top 20 rows\n"
      ],
      "text/plain": [
       "+---+------+---+---------------+-----------+------------------+-----------+--------------+--------------+--------------------+-------+--------+\n",
       "| id|Gender|Age|Driving_License|Region_Code|Previously_Insured|Vehicle_Age|Vehicle_Damage|Annual_Premium|Policy_Sales_Channel|Vintage|Response|\n",
       "+---+------+---+---------------+-----------+------------------+-----------+--------------+--------------+--------------------+-------+--------+\n",
       "|  1|  Male| 44|              1|       28.0|                 0|  > 2 Years|           Yes|       40454.0|                26.0|    217|       1|\n",
       "|  2|  Male| 76|              1|        3.0|                 0|   1-2 Year|            No|       33536.0|                26.0|    183|       0|\n",
       "|  3|  Male| 47|              1|       28.0|                 0|  > 2 Years|           Yes|       38294.0|                26.0|     27|       1|\n",
       "|  4|  Male| 21|              1|       11.0|                 1|   < 1 Year|            No|       28619.0|               152.0|    203|       0|\n",
       "|  5|Female| 29|              1|       41.0|                 1|   < 1 Year|            No|       27496.0|               152.0|     39|       0|\n",
       "|  6|Female| 24|              1|       33.0|                 0|   < 1 Year|           Yes|        2630.0|               160.0|    176|       0|\n",
       "|  7|  Male| 23|              1|       11.0|                 0|   < 1 Year|           Yes|       23367.0|               152.0|    249|       0|\n",
       "|  8|Female| 56|              1|       28.0|                 0|   1-2 Year|           Yes|       32031.0|                26.0|     72|       1|\n",
       "|  9|Female| 24|              1|        3.0|                 1|   < 1 Year|            No|       27619.0|               152.0|     28|       0|\n",
       "| 10|Female| 32|              1|        6.0|                 1|   < 1 Year|            No|       28771.0|               152.0|     80|       0|\n",
       "| 11|Female| 47|              1|       35.0|                 0|   1-2 Year|           Yes|       47576.0|               124.0|     46|       1|\n",
       "| 12|Female| 24|              1|       50.0|                 1|   < 1 Year|            No|       48699.0|               152.0|    289|       0|\n",
       "| 13|Female| 41|              1|       15.0|                 1|   1-2 Year|            No|       31409.0|                14.0|    221|       0|\n",
       "| 14|  Male| 76|              1|       28.0|                 0|   1-2 Year|           Yes|       36770.0|                13.0|     15|       0|\n",
       "| 15|  Male| 71|              1|       28.0|                 1|   1-2 Year|            No|       46818.0|                30.0|     58|       0|\n",
       "| 16|  Male| 37|              1|        6.0|                 0|   1-2 Year|           Yes|        2630.0|               156.0|    147|       1|\n",
       "| 17|Female| 25|              1|       45.0|                 0|   < 1 Year|           Yes|       26218.0|               160.0|    256|       0|\n",
       "| 18|Female| 25|              1|       35.0|                 1|   < 1 Year|            No|       46622.0|               152.0|    299|       0|\n",
       "| 19|  Male| 42|              1|       28.0|                 0|   1-2 Year|           Yes|       33667.0|               124.0|    158|       0|\n",
       "| 20|Female| 60|              1|       33.0|                 0|   1-2 Year|           Yes|       32363.0|               124.0|    102|       1|\n",
       "+---+------+---+---------------+-----------+------------------+-----------+--------------+--------------+--------------------+-------+--------+\n",
       "only showing top 20 rows"
      ]
     },
     "execution_count": 8,
     "metadata": {},
     "output_type": "execute_result"
    }
   ],
   "source": [
    "#importation des données donneés\n",
    "spark.conf.set('spark.sql.repl.eagerEval.enabled', True)\n",
    "data = spark.read.csv('assurance.csv',header=True,inferSchema=True)\n",
    "data"
   ]
  },
  {
   "cell_type": "code",
   "execution_count": 9,
   "metadata": {
    "scrolled": true
   },
   "outputs": [
    {
     "name": "stdout",
     "output_type": "stream",
     "text": [
      "root\n",
      " |-- id: integer (nullable = true)\n",
      " |-- Gender: string (nullable = true)\n",
      " |-- Age: integer (nullable = true)\n",
      " |-- Driving_License: integer (nullable = true)\n",
      " |-- Region_Code: double (nullable = true)\n",
      " |-- Previously_Insured: integer (nullable = true)\n",
      " |-- Vehicle_Age: string (nullable = true)\n",
      " |-- Vehicle_Damage: string (nullable = true)\n",
      " |-- Annual_Premium: double (nullable = true)\n",
      " |-- Policy_Sales_Channel: double (nullable = true)\n",
      " |-- Vintage: integer (nullable = true)\n",
      " |-- Response: integer (nullable = true)\n",
      "\n"
     ]
    }
   ],
   "source": [
    "#afficher la structure du données avec le type de chaque colonne\n",
    "data.printSchema()"
   ]
  },
  {
   "cell_type": "code",
   "execution_count": 10,
   "metadata": {},
   "outputs": [
    {
     "name": "stdout",
     "output_type": "stream",
     "text": [
      "['id', 'Gender', 'Age', 'Driving_License', 'Region_Code', 'Previously_Insured', 'Vehicle_Age', 'Vehicle_Damage', 'Annual_Premium', 'Policy_Sales_Channel', 'Vintage', 'Response']\n",
      "12\n"
     ]
    }
   ],
   "source": [
    "#afficher les noms et la taille des colonnes\n",
    "print(data.columns)\n",
    "print(len(data.columns))"
   ]
  },
  {
   "cell_type": "code",
   "execution_count": 13,
   "metadata": {},
   "outputs": [
    {
     "data": {
      "text/html": [
       "<table border='1'>\n",
       "<tr><th>summary</th><th>id</th><th>Gender</th><th>Age</th><th>Driving_License</th><th>Region_Code</th><th>Previously_Insured</th><th>Vehicle_Age</th><th>Vehicle_Damage</th><th>Annual_Premium</th><th>Policy_Sales_Channel</th><th>Vintage</th><th>Response</th></tr>\n",
       "<tr><td>count</td><td>381109</td><td>381109</td><td>381109</td><td>381109</td><td>381109</td><td>381109</td><td>381109</td><td>381109</td><td>381109</td><td>381109</td><td>381109</td><td>381109</td></tr>\n",
       "<tr><td>mean</td><td>190555.0</td><td>null</td><td>38.822583565331705</td><td>0.9978693759528114</td><td>26.388807401557035</td><td>0.4582101183650871</td><td>null</td><td>null</td><td>30564.389581458323</td><td>112.03429465061177</td><td>154.34739667654136</td><td>0.12256336113815208</td></tr>\n",
       "<tr><td>stddev</td><td>110016.83620776715</td><td>null</td><td>15.511611018095321</td><td>0.04610954420779957</td><td>13.229888025788474</td><td>0.498251198887226</td><td>null</td><td>null</td><td>17213.155056980126</td><td>54.20399477485638</td><td>83.6713036265871</td><td>0.3279357647864255</td></tr>\n",
       "<tr><td>min</td><td>1</td><td>Female</td><td>20</td><td>0</td><td>0.0</td><td>0</td><td>1-2 Year</td><td>No</td><td>2630.0</td><td>1.0</td><td>10</td><td>0</td></tr>\n",
       "<tr><td>max</td><td>381109</td><td>Male</td><td>85</td><td>1</td><td>52.0</td><td>1</td><td>&gt; 2 Years</td><td>Yes</td><td>540165.0</td><td>163.0</td><td>299</td><td>1</td></tr>\n",
       "</table>\n"
      ],
      "text/plain": [
       "+-------+------------------+------+------------------+-------------------+------------------+------------------+-----------+--------------+------------------+--------------------+------------------+-------------------+\n",
       "|summary|                id|Gender|               Age|    Driving_License|       Region_Code|Previously_Insured|Vehicle_Age|Vehicle_Damage|    Annual_Premium|Policy_Sales_Channel|           Vintage|           Response|\n",
       "+-------+------------------+------+------------------+-------------------+------------------+------------------+-----------+--------------+------------------+--------------------+------------------+-------------------+\n",
       "|  count|            381109|381109|            381109|             381109|            381109|            381109|     381109|        381109|            381109|              381109|            381109|             381109|\n",
       "|   mean|          190555.0|  null|38.822583565331705| 0.9978693759528114|26.388807401557035|0.4582101183650871|       null|          null|30564.389581458323|  112.03429465061177|154.34739667654136|0.12256336113815208|\n",
       "| stddev|110016.83620776715|  null|15.511611018095321|0.04610954420779957|13.229888025788474| 0.498251198887226|       null|          null|17213.155056980126|   54.20399477485638|  83.6713036265871| 0.3279357647864255|\n",
       "|    min|                 1|Female|                20|                  0|               0.0|                 0|   1-2 Year|            No|            2630.0|                 1.0|                10|                  0|\n",
       "|    max|            381109|  Male|                85|                  1|              52.0|                 1|  > 2 Years|           Yes|          540165.0|               163.0|               299|                  1|\n",
       "+-------+------------------+------+------------------+-------------------+------------------+------------------+-----------+--------------+------------------+--------------------+------------------+-------------------+"
      ]
     },
     "execution_count": 13,
     "metadata": {},
     "output_type": "execute_result"
    }
   ],
   "source": [
    "#afficher la description des données\n",
    "data.describe()"
   ]
  },
  {
   "cell_type": "code",
   "execution_count": null,
   "metadata": {},
   "outputs": [],
   "source": [
    "#Calculer le nombre de femmes ayant un véhicule âgé de plus de 2 ans (> 2 Years)\n",
    "age_femme = data.filter((data.Gender=='Female') & (data.Vehicle_Age=='> 2 Years')).count()\n",
    "print(\"le nombre de femmes ayant un véhicule âgé de plus de 2 ans : \",age_femme)"
   ]
  },
  {
   "cell_type": "code",
   "execution_count": null,
   "metadata": {},
   "outputs": [],
   "source": [
    "#Calculer la moyenne des Annual_Premium pour les hommes ayant des véhicules endommagés \n",
    "vehicule_endommage = data.filter((data.Gender=='Male') & (data.Vehicle_Damage=='Yes')).select(data.Annual_Premium).describe()\n",
    "print(\"la moyenne des Annual_Premium pour les hommes ayant des véhicules endommagés : \",vehicule_endommage)"
   ]
  },
  {
   "cell_type": "code",
   "execution_count": 21,
   "metadata": {},
   "outputs": [],
   "source": [
    "# créer un fichier file_name.json\n",
    "#Enregistrer le nouveau dataframe au format json\n",
    "import json\n",
    "fileName = \"file_name.json\"\n",
    "jsonFile = '{ \n",
    "    \"id\":data.id,\n",
    "    \"Gender\":data.Gender, \n",
    "    \"Age\":data.Age, \n",
    "    \"Driving_License\":data.Driving_License,\n",
    "    \"Region_Code\":data.Region_Code,\n",
    "    \"Previously_Insured\":data.Previously_Insured,\n",
    "    \"Vehicle_Age\":data.Vehicle_Age,\n",
    "    \"Annual_Premium\":data.Annual_Premium,\n",
    "    \"Policy_Sales_Channel\":data.Policy_Sales_Channel,\n",
    "    \"Vintage\":data.Vintage,\n",
    "    \"Response\":data.Response\n",
    "}'\n",
    "jsonString = json.loads(jsonFile)\n",
    "\n",
    "file = open(fileName, \"w\")\n",
    "json.dump(jsonString, file)\n",
    "file.close()"
   ]
  },
  {
   "cell_type": "code",
   "execution_count": 24,
   "metadata": {},
   "outputs": [
    {
     "data": {
      "text/html": [
       "<table border='1'>\n",
       "<tr><th>id</th><th>Gender</th><th>Age</th><th>Driving_License</th><th>Region_Code</th><th>Previously_Insured</th><th>Vehicle_Age</th><th>Vehicle_Damage</th><th>Annual_Premium</th><th>Policy_Sales_Channel</th><th>Vintage</th><th>Response</th></tr>\n",
       "<tr><td>1</td><td>Male</td><td>44</td><td>1</td><td>28.0</td><td>0</td><td>&gt; 2 Years</td><td>1</td><td>40454.0</td><td>26.0</td><td>217</td><td>1</td></tr>\n",
       "<tr><td>2</td><td>Male</td><td>76</td><td>1</td><td>3.0</td><td>0</td><td>1-2 Year</td><td>0</td><td>33536.0</td><td>26.0</td><td>183</td><td>0</td></tr>\n",
       "<tr><td>3</td><td>Male</td><td>47</td><td>1</td><td>28.0</td><td>0</td><td>&gt; 2 Years</td><td>1</td><td>38294.0</td><td>26.0</td><td>27</td><td>1</td></tr>\n",
       "<tr><td>4</td><td>Male</td><td>21</td><td>1</td><td>11.0</td><td>1</td><td>&lt; 1 Year</td><td>0</td><td>28619.0</td><td>152.0</td><td>203</td><td>0</td></tr>\n",
       "<tr><td>5</td><td>Female</td><td>29</td><td>1</td><td>41.0</td><td>1</td><td>&lt; 1 Year</td><td>0</td><td>27496.0</td><td>152.0</td><td>39</td><td>0</td></tr>\n",
       "<tr><td>6</td><td>Female</td><td>24</td><td>1</td><td>33.0</td><td>0</td><td>&lt; 1 Year</td><td>1</td><td>2630.0</td><td>160.0</td><td>176</td><td>0</td></tr>\n",
       "<tr><td>7</td><td>Male</td><td>23</td><td>1</td><td>11.0</td><td>0</td><td>&lt; 1 Year</td><td>1</td><td>23367.0</td><td>152.0</td><td>249</td><td>0</td></tr>\n",
       "<tr><td>8</td><td>Female</td><td>56</td><td>1</td><td>28.0</td><td>0</td><td>1-2 Year</td><td>1</td><td>32031.0</td><td>26.0</td><td>72</td><td>1</td></tr>\n",
       "<tr><td>9</td><td>Female</td><td>24</td><td>1</td><td>3.0</td><td>1</td><td>&lt; 1 Year</td><td>0</td><td>27619.0</td><td>152.0</td><td>28</td><td>0</td></tr>\n",
       "<tr><td>10</td><td>Female</td><td>32</td><td>1</td><td>6.0</td><td>1</td><td>&lt; 1 Year</td><td>0</td><td>28771.0</td><td>152.0</td><td>80</td><td>0</td></tr>\n",
       "<tr><td>11</td><td>Female</td><td>47</td><td>1</td><td>35.0</td><td>0</td><td>1-2 Year</td><td>1</td><td>47576.0</td><td>124.0</td><td>46</td><td>1</td></tr>\n",
       "<tr><td>12</td><td>Female</td><td>24</td><td>1</td><td>50.0</td><td>1</td><td>&lt; 1 Year</td><td>0</td><td>48699.0</td><td>152.0</td><td>289</td><td>0</td></tr>\n",
       "<tr><td>13</td><td>Female</td><td>41</td><td>1</td><td>15.0</td><td>1</td><td>1-2 Year</td><td>0</td><td>31409.0</td><td>14.0</td><td>221</td><td>0</td></tr>\n",
       "<tr><td>14</td><td>Male</td><td>76</td><td>1</td><td>28.0</td><td>0</td><td>1-2 Year</td><td>1</td><td>36770.0</td><td>13.0</td><td>15</td><td>0</td></tr>\n",
       "<tr><td>15</td><td>Male</td><td>71</td><td>1</td><td>28.0</td><td>1</td><td>1-2 Year</td><td>0</td><td>46818.0</td><td>30.0</td><td>58</td><td>0</td></tr>\n",
       "<tr><td>16</td><td>Male</td><td>37</td><td>1</td><td>6.0</td><td>0</td><td>1-2 Year</td><td>1</td><td>2630.0</td><td>156.0</td><td>147</td><td>1</td></tr>\n",
       "<tr><td>17</td><td>Female</td><td>25</td><td>1</td><td>45.0</td><td>0</td><td>&lt; 1 Year</td><td>1</td><td>26218.0</td><td>160.0</td><td>256</td><td>0</td></tr>\n",
       "<tr><td>18</td><td>Female</td><td>25</td><td>1</td><td>35.0</td><td>1</td><td>&lt; 1 Year</td><td>0</td><td>46622.0</td><td>152.0</td><td>299</td><td>0</td></tr>\n",
       "<tr><td>19</td><td>Male</td><td>42</td><td>1</td><td>28.0</td><td>0</td><td>1-2 Year</td><td>1</td><td>33667.0</td><td>124.0</td><td>158</td><td>0</td></tr>\n",
       "<tr><td>20</td><td>Female</td><td>60</td><td>1</td><td>33.0</td><td>0</td><td>1-2 Year</td><td>1</td><td>32363.0</td><td>124.0</td><td>102</td><td>1</td></tr>\n",
       "</table>\n",
       "only showing top 20 rows\n"
      ],
      "text/plain": [
       "+---+------+---+---------------+-----------+------------------+-----------+--------------+--------------+--------------------+-------+--------+\n",
       "| id|Gender|Age|Driving_License|Region_Code|Previously_Insured|Vehicle_Age|Vehicle_Damage|Annual_Premium|Policy_Sales_Channel|Vintage|Response|\n",
       "+---+------+---+---------------+-----------+------------------+-----------+--------------+--------------+--------------------+-------+--------+\n",
       "|  1|  Male| 44|              1|       28.0|                 0|  > 2 Years|             1|       40454.0|                26.0|    217|       1|\n",
       "|  2|  Male| 76|              1|        3.0|                 0|   1-2 Year|             0|       33536.0|                26.0|    183|       0|\n",
       "|  3|  Male| 47|              1|       28.0|                 0|  > 2 Years|             1|       38294.0|                26.0|     27|       1|\n",
       "|  4|  Male| 21|              1|       11.0|                 1|   < 1 Year|             0|       28619.0|               152.0|    203|       0|\n",
       "|  5|Female| 29|              1|       41.0|                 1|   < 1 Year|             0|       27496.0|               152.0|     39|       0|\n",
       "|  6|Female| 24|              1|       33.0|                 0|   < 1 Year|             1|        2630.0|               160.0|    176|       0|\n",
       "|  7|  Male| 23|              1|       11.0|                 0|   < 1 Year|             1|       23367.0|               152.0|    249|       0|\n",
       "|  8|Female| 56|              1|       28.0|                 0|   1-2 Year|             1|       32031.0|                26.0|     72|       1|\n",
       "|  9|Female| 24|              1|        3.0|                 1|   < 1 Year|             0|       27619.0|               152.0|     28|       0|\n",
       "| 10|Female| 32|              1|        6.0|                 1|   < 1 Year|             0|       28771.0|               152.0|     80|       0|\n",
       "| 11|Female| 47|              1|       35.0|                 0|   1-2 Year|             1|       47576.0|               124.0|     46|       1|\n",
       "| 12|Female| 24|              1|       50.0|                 1|   < 1 Year|             0|       48699.0|               152.0|    289|       0|\n",
       "| 13|Female| 41|              1|       15.0|                 1|   1-2 Year|             0|       31409.0|                14.0|    221|       0|\n",
       "| 14|  Male| 76|              1|       28.0|                 0|   1-2 Year|             1|       36770.0|                13.0|     15|       0|\n",
       "| 15|  Male| 71|              1|       28.0|                 1|   1-2 Year|             0|       46818.0|                30.0|     58|       0|\n",
       "| 16|  Male| 37|              1|        6.0|                 0|   1-2 Year|             1|        2630.0|               156.0|    147|       1|\n",
       "| 17|Female| 25|              1|       45.0|                 0|   < 1 Year|             1|       26218.0|               160.0|    256|       0|\n",
       "| 18|Female| 25|              1|       35.0|                 1|   < 1 Year|             0|       46622.0|               152.0|    299|       0|\n",
       "| 19|  Male| 42|              1|       28.0|                 0|   1-2 Year|             1|       33667.0|               124.0|    158|       0|\n",
       "| 20|Female| 60|              1|       33.0|                 0|   1-2 Year|             1|       32363.0|               124.0|    102|       1|\n",
       "+---+------+---+---------------+-----------+------------------+-----------+--------------+--------------+--------------------+-------+--------+\n",
       "only showing top 20 rows"
      ]
     },
     "execution_count": 24,
     "metadata": {},
     "output_type": "execute_result"
    }
   ],
   "source": [
    "#Créer une fonction udf permettant de convertir les valeurs de la colonne Vehicle_Damage en 0 et 1 \n",
    "from pyspark.sql.types import DoubleType, IntegerType, DateType , StringType\n",
    "from pyspark.sql.functions import when , udf , col \n",
    "\n",
    "def convert_Vehicle_Damage(s):\n",
    "    return 1 if s=='Yes' else 0\n",
    "udf_convert_Vehicle_Damage = udf(lambda z:convert_Vehicle_Damage(z))\n",
    "data=data.withColumn(\"Vehicle_Damage\", udfconverture_1_0_Vehicle_Damage(col(\"Vehicle_Damage\")).cast(IntegerType()))\n",
    "data"
   ]
  },
  {
   "cell_type": "code",
   "execution_count": 25,
   "metadata": {},
   "outputs": [
    {
     "name": "stdout",
     "output_type": "stream",
     "text": [
      "root\n",
      " |-- id: integer (nullable = true)\n",
      " |-- Gender: string (nullable = true)\n",
      " |-- Age: integer (nullable = true)\n",
      " |-- Driving_License: integer (nullable = true)\n",
      " |-- Region_Code: double (nullable = true)\n",
      " |-- Previously_Insured: integer (nullable = true)\n",
      " |-- Vehicle_Age: string (nullable = true)\n",
      " |-- Vehicle_Damage: integer (nullable = true)\n",
      " |-- Annual_Premium: double (nullable = true)\n",
      " |-- Policy_Sales_Channel: double (nullable = true)\n",
      " |-- Vintage: integer (nullable = true)\n",
      " |-- Response: integer (nullable = true)\n",
      "\n"
     ]
    }
   ],
   "source": [
    "#afficher le schéma de données\n",
    "data.printSchema()"
   ]
  },
  {
   "cell_type": "code",
   "execution_count": 28,
   "metadata": {},
   "outputs": [
    {
     "data": {
      "text/html": [
       "<table border='1'>\n",
       "<tr><th>Vehicle_Age</th></tr>\n",
       "<tr><td>&gt; 2 Years</td></tr>\n",
       "<tr><td>&lt; 1 Year</td></tr>\n",
       "<tr><td>1-2 Year</td></tr>\n",
       "</table>\n"
      ],
      "text/plain": [
       "+-----------+\n",
       "|Vehicle_Age|\n",
       "+-----------+\n",
       "|  > 2 Years|\n",
       "|   < 1 Year|\n",
       "|   1-2 Year|\n",
       "+-----------+"
      ]
     },
     "execution_count": 28,
     "metadata": {},
     "output_type": "execute_result"
    }
   ],
   "source": [
    "#Créer une fonction udf pour encoder la colonne Vehicle_Age en valeurs numérique\n",
    "\n",
    "#selectionner la colonne Vehicule Age\n",
    "data.select('Vehicle_Age').distinct()"
   ]
  },
  {
   "cell_type": "code",
   "execution_count": 29,
   "metadata": {
    "scrolled": false
   },
   "outputs": [
    {
     "data": {
      "text/html": [
       "<table border='1'>\n",
       "<tr><th>id</th><th>Gender</th><th>Age</th><th>Driving_License</th><th>Region_Code</th><th>Previously_Insured</th><th>Vehicle_Age</th><th>Vehicle_Damage</th><th>Annual_Premium</th><th>Policy_Sales_Channel</th><th>Vintage</th><th>Response</th></tr>\n",
       "<tr><td>1</td><td>Male</td><td>44</td><td>1</td><td>28.0</td><td>0</td><td>2</td><td>1</td><td>40454.0</td><td>26.0</td><td>217</td><td>1</td></tr>\n",
       "<tr><td>2</td><td>Male</td><td>76</td><td>1</td><td>3.0</td><td>0</td><td>1</td><td>0</td><td>33536.0</td><td>26.0</td><td>183</td><td>0</td></tr>\n",
       "<tr><td>3</td><td>Male</td><td>47</td><td>1</td><td>28.0</td><td>0</td><td>2</td><td>1</td><td>38294.0</td><td>26.0</td><td>27</td><td>1</td></tr>\n",
       "<tr><td>4</td><td>Male</td><td>21</td><td>1</td><td>11.0</td><td>1</td><td>0</td><td>0</td><td>28619.0</td><td>152.0</td><td>203</td><td>0</td></tr>\n",
       "<tr><td>5</td><td>Female</td><td>29</td><td>1</td><td>41.0</td><td>1</td><td>0</td><td>0</td><td>27496.0</td><td>152.0</td><td>39</td><td>0</td></tr>\n",
       "<tr><td>6</td><td>Female</td><td>24</td><td>1</td><td>33.0</td><td>0</td><td>0</td><td>1</td><td>2630.0</td><td>160.0</td><td>176</td><td>0</td></tr>\n",
       "<tr><td>7</td><td>Male</td><td>23</td><td>1</td><td>11.0</td><td>0</td><td>0</td><td>1</td><td>23367.0</td><td>152.0</td><td>249</td><td>0</td></tr>\n",
       "<tr><td>8</td><td>Female</td><td>56</td><td>1</td><td>28.0</td><td>0</td><td>1</td><td>1</td><td>32031.0</td><td>26.0</td><td>72</td><td>1</td></tr>\n",
       "<tr><td>9</td><td>Female</td><td>24</td><td>1</td><td>3.0</td><td>1</td><td>0</td><td>0</td><td>27619.0</td><td>152.0</td><td>28</td><td>0</td></tr>\n",
       "<tr><td>10</td><td>Female</td><td>32</td><td>1</td><td>6.0</td><td>1</td><td>0</td><td>0</td><td>28771.0</td><td>152.0</td><td>80</td><td>0</td></tr>\n",
       "<tr><td>11</td><td>Female</td><td>47</td><td>1</td><td>35.0</td><td>0</td><td>1</td><td>1</td><td>47576.0</td><td>124.0</td><td>46</td><td>1</td></tr>\n",
       "<tr><td>12</td><td>Female</td><td>24</td><td>1</td><td>50.0</td><td>1</td><td>0</td><td>0</td><td>48699.0</td><td>152.0</td><td>289</td><td>0</td></tr>\n",
       "<tr><td>13</td><td>Female</td><td>41</td><td>1</td><td>15.0</td><td>1</td><td>1</td><td>0</td><td>31409.0</td><td>14.0</td><td>221</td><td>0</td></tr>\n",
       "<tr><td>14</td><td>Male</td><td>76</td><td>1</td><td>28.0</td><td>0</td><td>1</td><td>1</td><td>36770.0</td><td>13.0</td><td>15</td><td>0</td></tr>\n",
       "<tr><td>15</td><td>Male</td><td>71</td><td>1</td><td>28.0</td><td>1</td><td>1</td><td>0</td><td>46818.0</td><td>30.0</td><td>58</td><td>0</td></tr>\n",
       "<tr><td>16</td><td>Male</td><td>37</td><td>1</td><td>6.0</td><td>0</td><td>1</td><td>1</td><td>2630.0</td><td>156.0</td><td>147</td><td>1</td></tr>\n",
       "<tr><td>17</td><td>Female</td><td>25</td><td>1</td><td>45.0</td><td>0</td><td>0</td><td>1</td><td>26218.0</td><td>160.0</td><td>256</td><td>0</td></tr>\n",
       "<tr><td>18</td><td>Female</td><td>25</td><td>1</td><td>35.0</td><td>1</td><td>0</td><td>0</td><td>46622.0</td><td>152.0</td><td>299</td><td>0</td></tr>\n",
       "<tr><td>19</td><td>Male</td><td>42</td><td>1</td><td>28.0</td><td>0</td><td>1</td><td>1</td><td>33667.0</td><td>124.0</td><td>158</td><td>0</td></tr>\n",
       "<tr><td>20</td><td>Female</td><td>60</td><td>1</td><td>33.0</td><td>0</td><td>1</td><td>1</td><td>32363.0</td><td>124.0</td><td>102</td><td>1</td></tr>\n",
       "</table>\n",
       "only showing top 20 rows\n"
      ],
      "text/plain": [
       "+---+------+---+---------------+-----------+------------------+-----------+--------------+--------------+--------------------+-------+--------+\n",
       "| id|Gender|Age|Driving_License|Region_Code|Previously_Insured|Vehicle_Age|Vehicle_Damage|Annual_Premium|Policy_Sales_Channel|Vintage|Response|\n",
       "+---+------+---+---------------+-----------+------------------+-----------+--------------+--------------+--------------------+-------+--------+\n",
       "|  1|  Male| 44|              1|       28.0|                 0|          2|             1|       40454.0|                26.0|    217|       1|\n",
       "|  2|  Male| 76|              1|        3.0|                 0|          1|             0|       33536.0|                26.0|    183|       0|\n",
       "|  3|  Male| 47|              1|       28.0|                 0|          2|             1|       38294.0|                26.0|     27|       1|\n",
       "|  4|  Male| 21|              1|       11.0|                 1|          0|             0|       28619.0|               152.0|    203|       0|\n",
       "|  5|Female| 29|              1|       41.0|                 1|          0|             0|       27496.0|               152.0|     39|       0|\n",
       "|  6|Female| 24|              1|       33.0|                 0|          0|             1|        2630.0|               160.0|    176|       0|\n",
       "|  7|  Male| 23|              1|       11.0|                 0|          0|             1|       23367.0|               152.0|    249|       0|\n",
       "|  8|Female| 56|              1|       28.0|                 0|          1|             1|       32031.0|                26.0|     72|       1|\n",
       "|  9|Female| 24|              1|        3.0|                 1|          0|             0|       27619.0|               152.0|     28|       0|\n",
       "| 10|Female| 32|              1|        6.0|                 1|          0|             0|       28771.0|               152.0|     80|       0|\n",
       "| 11|Female| 47|              1|       35.0|                 0|          1|             1|       47576.0|               124.0|     46|       1|\n",
       "| 12|Female| 24|              1|       50.0|                 1|          0|             0|       48699.0|               152.0|    289|       0|\n",
       "| 13|Female| 41|              1|       15.0|                 1|          1|             0|       31409.0|                14.0|    221|       0|\n",
       "| 14|  Male| 76|              1|       28.0|                 0|          1|             1|       36770.0|                13.0|     15|       0|\n",
       "| 15|  Male| 71|              1|       28.0|                 1|          1|             0|       46818.0|                30.0|     58|       0|\n",
       "| 16|  Male| 37|              1|        6.0|                 0|          1|             1|        2630.0|               156.0|    147|       1|\n",
       "| 17|Female| 25|              1|       45.0|                 0|          0|             1|       26218.0|               160.0|    256|       0|\n",
       "| 18|Female| 25|              1|       35.0|                 1|          0|             0|       46622.0|               152.0|    299|       0|\n",
       "| 19|  Male| 42|              1|       28.0|                 0|          1|             1|       33667.0|               124.0|    158|       0|\n",
       "| 20|Female| 60|              1|       33.0|                 0|          1|             1|       32363.0|               124.0|    102|       1|\n",
       "+---+------+---+---------------+-----------+------------------+-----------+--------------+--------------+--------------------+-------+--------+\n",
       "only showing top 20 rows"
      ]
     },
     "execution_count": 29,
     "metadata": {},
     "output_type": "execute_result"
    }
   ],
   "source": [
    "def convert_Vehicle_Age(s):\n",
    "    return 2 if s=='> 2 Years' else 1 if s=='1-2 Year' else 0\n",
    "udf_converture_Vehicle_Age = udf(lambda z:convert_Vehicle_Age(z))\n",
    "data=data.withColumn(\"Vehicle_Age\", udf_converture_Vehicle_Age(col(\"Vehicle_Age\")).cast(IntegerType()))\n",
    "data"
   ]
  },
  {
   "cell_type": "code",
   "execution_count": 30,
   "metadata": {},
   "outputs": [
    {
     "name": "stdout",
     "output_type": "stream",
     "text": [
      "root\n",
      " |-- id: integer (nullable = true)\n",
      " |-- Gender: string (nullable = true)\n",
      " |-- Age: integer (nullable = true)\n",
      " |-- Driving_License: integer (nullable = true)\n",
      " |-- Region_Code: double (nullable = true)\n",
      " |-- Previously_Insured: integer (nullable = true)\n",
      " |-- Vehicle_Age: integer (nullable = true)\n",
      " |-- Vehicle_Damage: integer (nullable = true)\n",
      " |-- Annual_Premium: double (nullable = true)\n",
      " |-- Policy_Sales_Channel: double (nullable = true)\n",
      " |-- Vintage: integer (nullable = true)\n",
      " |-- Response: integer (nullable = true)\n",
      "\n"
     ]
    }
   ],
   "source": [
    "#afficher le schéma de données\n",
    "data.printSchema()"
   ]
  },
  {
   "cell_type": "code",
   "execution_count": 31,
   "metadata": {},
   "outputs": [
    {
     "data": {
      "text/html": [
       "<table border='1'>\n",
       "<tr><th>id</th><th>Gender</th><th>Age</th><th>Driving_License</th><th>Region_Code</th><th>Previously_Insured</th><th>Vehicle_Age</th><th>Vehicle_Damage</th><th>Annual_Premium</th><th>Policy_Sales_Channel</th><th>Vintage</th><th>Response</th></tr>\n",
       "<tr><td>1</td><td>Male</td><td>44</td><td>1</td><td>28.0</td><td>0</td><td>2</td><td>1</td><td>40454.0</td><td>26.0</td><td>217</td><td>1</td></tr>\n",
       "<tr><td>2</td><td>Male</td><td>76</td><td>1</td><td>3.0</td><td>0</td><td>1</td><td>0</td><td>33536.0</td><td>26.0</td><td>183</td><td>0</td></tr>\n",
       "<tr><td>3</td><td>Male</td><td>47</td><td>1</td><td>28.0</td><td>0</td><td>2</td><td>1</td><td>38294.0</td><td>26.0</td><td>27</td><td>1</td></tr>\n",
       "<tr><td>4</td><td>Male</td><td>21</td><td>1</td><td>11.0</td><td>1</td><td>0</td><td>0</td><td>28619.0</td><td>152.0</td><td>203</td><td>0</td></tr>\n",
       "<tr><td>5</td><td>Female</td><td>29</td><td>1</td><td>41.0</td><td>1</td><td>0</td><td>0</td><td>27496.0</td><td>152.0</td><td>39</td><td>0</td></tr>\n",
       "<tr><td>6</td><td>Female</td><td>24</td><td>1</td><td>33.0</td><td>0</td><td>0</td><td>1</td><td>2630.0</td><td>160.0</td><td>176</td><td>0</td></tr>\n",
       "<tr><td>7</td><td>Male</td><td>23</td><td>1</td><td>11.0</td><td>0</td><td>0</td><td>1</td><td>23367.0</td><td>152.0</td><td>249</td><td>0</td></tr>\n",
       "<tr><td>8</td><td>Female</td><td>56</td><td>1</td><td>28.0</td><td>0</td><td>1</td><td>1</td><td>32031.0</td><td>26.0</td><td>72</td><td>1</td></tr>\n",
       "<tr><td>9</td><td>Female</td><td>24</td><td>1</td><td>3.0</td><td>1</td><td>0</td><td>0</td><td>27619.0</td><td>152.0</td><td>28</td><td>0</td></tr>\n",
       "<tr><td>10</td><td>Female</td><td>32</td><td>1</td><td>6.0</td><td>1</td><td>0</td><td>0</td><td>28771.0</td><td>152.0</td><td>80</td><td>0</td></tr>\n",
       "<tr><td>11</td><td>Female</td><td>47</td><td>1</td><td>35.0</td><td>0</td><td>1</td><td>1</td><td>47576.0</td><td>124.0</td><td>46</td><td>1</td></tr>\n",
       "<tr><td>12</td><td>Female</td><td>24</td><td>1</td><td>50.0</td><td>1</td><td>0</td><td>0</td><td>48699.0</td><td>152.0</td><td>289</td><td>0</td></tr>\n",
       "<tr><td>13</td><td>Female</td><td>41</td><td>1</td><td>15.0</td><td>1</td><td>1</td><td>0</td><td>31409.0</td><td>14.0</td><td>221</td><td>0</td></tr>\n",
       "<tr><td>14</td><td>Male</td><td>76</td><td>1</td><td>28.0</td><td>0</td><td>1</td><td>1</td><td>36770.0</td><td>13.0</td><td>15</td><td>0</td></tr>\n",
       "<tr><td>15</td><td>Male</td><td>71</td><td>1</td><td>28.0</td><td>1</td><td>1</td><td>0</td><td>46818.0</td><td>30.0</td><td>58</td><td>0</td></tr>\n",
       "<tr><td>16</td><td>Male</td><td>37</td><td>1</td><td>6.0</td><td>0</td><td>1</td><td>1</td><td>2630.0</td><td>156.0</td><td>147</td><td>1</td></tr>\n",
       "<tr><td>17</td><td>Female</td><td>25</td><td>1</td><td>45.0</td><td>0</td><td>0</td><td>1</td><td>26218.0</td><td>160.0</td><td>256</td><td>0</td></tr>\n",
       "<tr><td>18</td><td>Female</td><td>25</td><td>1</td><td>35.0</td><td>1</td><td>0</td><td>0</td><td>46622.0</td><td>152.0</td><td>299</td><td>0</td></tr>\n",
       "<tr><td>19</td><td>Male</td><td>42</td><td>1</td><td>28.0</td><td>0</td><td>1</td><td>1</td><td>33667.0</td><td>124.0</td><td>158</td><td>0</td></tr>\n",
       "<tr><td>20</td><td>Female</td><td>60</td><td>1</td><td>33.0</td><td>0</td><td>1</td><td>1</td><td>32363.0</td><td>124.0</td><td>102</td><td>1</td></tr>\n",
       "</table>\n",
       "only showing top 20 rows\n"
      ],
      "text/plain": [
       "DataFrame[id: int, Gender: string, Age: int, Driving_License: int, Region_Code: double, Previously_Insured: int, Vehicle_Age: int, Vehicle_Damage: int, Annual_Premium: double, Policy_Sales_Channel: double, Vintage: int, Response: int]"
      ]
     },
     "execution_count": 31,
     "metadata": {},
     "output_type": "execute_result"
    }
   ],
   "source": [
    "data"
   ]
  },
  {
   "cell_type": "code",
   "execution_count": 32,
   "metadata": {},
   "outputs": [
    {
     "data": {
      "text/html": [
       "<table border='1'>\n",
       "<tr><th>Response</th></tr>\n",
       "<tr><td>1</td></tr>\n",
       "<tr><td>0</td></tr>\n",
       "</table>\n"
      ],
      "text/plain": [
       "+--------+\n",
       "|Response|\n",
       "+--------+\n",
       "|       1|\n",
       "|       0|\n",
       "+--------+"
      ]
     },
     "execution_count": 32,
     "metadata": {},
     "output_type": "execute_result"
    }
   ],
   "source": [
    "#selectionner la colonne Response\n",
    "data.select('Response').distinct()"
   ]
  },
  {
   "cell_type": "code",
   "execution_count": 33,
   "metadata": {},
   "outputs": [
    {
     "data": {
      "text/html": [
       "<table border='1'>\n",
       "<tr><th>id</th><th>Gender</th><th>Age</th><th>Driving_License</th><th>Region_Code</th><th>Previously_Insured</th><th>Vehicle_Age</th><th>Vehicle_Damage</th><th>Annual_Premium</th><th>Policy_Sales_Channel</th><th>Vintage</th><th>Response</th></tr>\n",
       "<tr><td>1</td><td>1</td><td>44</td><td>1</td><td>28.0</td><td>0</td><td>2</td><td>1</td><td>40454.0</td><td>26.0</td><td>217</td><td>1</td></tr>\n",
       "<tr><td>2</td><td>1</td><td>76</td><td>1</td><td>3.0</td><td>0</td><td>1</td><td>0</td><td>33536.0</td><td>26.0</td><td>183</td><td>0</td></tr>\n",
       "<tr><td>3</td><td>1</td><td>47</td><td>1</td><td>28.0</td><td>0</td><td>2</td><td>1</td><td>38294.0</td><td>26.0</td><td>27</td><td>1</td></tr>\n",
       "<tr><td>4</td><td>1</td><td>21</td><td>1</td><td>11.0</td><td>1</td><td>0</td><td>0</td><td>28619.0</td><td>152.0</td><td>203</td><td>0</td></tr>\n",
       "<tr><td>5</td><td>0</td><td>29</td><td>1</td><td>41.0</td><td>1</td><td>0</td><td>0</td><td>27496.0</td><td>152.0</td><td>39</td><td>0</td></tr>\n",
       "<tr><td>6</td><td>0</td><td>24</td><td>1</td><td>33.0</td><td>0</td><td>0</td><td>1</td><td>2630.0</td><td>160.0</td><td>176</td><td>0</td></tr>\n",
       "<tr><td>7</td><td>1</td><td>23</td><td>1</td><td>11.0</td><td>0</td><td>0</td><td>1</td><td>23367.0</td><td>152.0</td><td>249</td><td>0</td></tr>\n",
       "<tr><td>8</td><td>0</td><td>56</td><td>1</td><td>28.0</td><td>0</td><td>1</td><td>1</td><td>32031.0</td><td>26.0</td><td>72</td><td>1</td></tr>\n",
       "<tr><td>9</td><td>0</td><td>24</td><td>1</td><td>3.0</td><td>1</td><td>0</td><td>0</td><td>27619.0</td><td>152.0</td><td>28</td><td>0</td></tr>\n",
       "<tr><td>10</td><td>0</td><td>32</td><td>1</td><td>6.0</td><td>1</td><td>0</td><td>0</td><td>28771.0</td><td>152.0</td><td>80</td><td>0</td></tr>\n",
       "<tr><td>11</td><td>0</td><td>47</td><td>1</td><td>35.0</td><td>0</td><td>1</td><td>1</td><td>47576.0</td><td>124.0</td><td>46</td><td>1</td></tr>\n",
       "<tr><td>12</td><td>0</td><td>24</td><td>1</td><td>50.0</td><td>1</td><td>0</td><td>0</td><td>48699.0</td><td>152.0</td><td>289</td><td>0</td></tr>\n",
       "<tr><td>13</td><td>0</td><td>41</td><td>1</td><td>15.0</td><td>1</td><td>1</td><td>0</td><td>31409.0</td><td>14.0</td><td>221</td><td>0</td></tr>\n",
       "<tr><td>14</td><td>1</td><td>76</td><td>1</td><td>28.0</td><td>0</td><td>1</td><td>1</td><td>36770.0</td><td>13.0</td><td>15</td><td>0</td></tr>\n",
       "<tr><td>15</td><td>1</td><td>71</td><td>1</td><td>28.0</td><td>1</td><td>1</td><td>0</td><td>46818.0</td><td>30.0</td><td>58</td><td>0</td></tr>\n",
       "<tr><td>16</td><td>1</td><td>37</td><td>1</td><td>6.0</td><td>0</td><td>1</td><td>1</td><td>2630.0</td><td>156.0</td><td>147</td><td>1</td></tr>\n",
       "<tr><td>17</td><td>0</td><td>25</td><td>1</td><td>45.0</td><td>0</td><td>0</td><td>1</td><td>26218.0</td><td>160.0</td><td>256</td><td>0</td></tr>\n",
       "<tr><td>18</td><td>0</td><td>25</td><td>1</td><td>35.0</td><td>1</td><td>0</td><td>0</td><td>46622.0</td><td>152.0</td><td>299</td><td>0</td></tr>\n",
       "<tr><td>19</td><td>1</td><td>42</td><td>1</td><td>28.0</td><td>0</td><td>1</td><td>1</td><td>33667.0</td><td>124.0</td><td>158</td><td>0</td></tr>\n",
       "<tr><td>20</td><td>0</td><td>60</td><td>1</td><td>33.0</td><td>0</td><td>1</td><td>1</td><td>32363.0</td><td>124.0</td><td>102</td><td>1</td></tr>\n",
       "</table>\n",
       "only showing top 20 rows\n"
      ],
      "text/plain": [
       "+---+------+---+---------------+-----------+------------------+-----------+--------------+--------------+--------------------+-------+--------+\n",
       "| id|Gender|Age|Driving_License|Region_Code|Previously_Insured|Vehicle_Age|Vehicle_Damage|Annual_Premium|Policy_Sales_Channel|Vintage|Response|\n",
       "+---+------+---+---------------+-----------+------------------+-----------+--------------+--------------+--------------------+-------+--------+\n",
       "|  1|     1| 44|              1|       28.0|                 0|          2|             1|       40454.0|                26.0|    217|       1|\n",
       "|  2|     1| 76|              1|        3.0|                 0|          1|             0|       33536.0|                26.0|    183|       0|\n",
       "|  3|     1| 47|              1|       28.0|                 0|          2|             1|       38294.0|                26.0|     27|       1|\n",
       "|  4|     1| 21|              1|       11.0|                 1|          0|             0|       28619.0|               152.0|    203|       0|\n",
       "|  5|     0| 29|              1|       41.0|                 1|          0|             0|       27496.0|               152.0|     39|       0|\n",
       "|  6|     0| 24|              1|       33.0|                 0|          0|             1|        2630.0|               160.0|    176|       0|\n",
       "|  7|     1| 23|              1|       11.0|                 0|          0|             1|       23367.0|               152.0|    249|       0|\n",
       "|  8|     0| 56|              1|       28.0|                 0|          1|             1|       32031.0|                26.0|     72|       1|\n",
       "|  9|     0| 24|              1|        3.0|                 1|          0|             0|       27619.0|               152.0|     28|       0|\n",
       "| 10|     0| 32|              1|        6.0|                 1|          0|             0|       28771.0|               152.0|     80|       0|\n",
       "| 11|     0| 47|              1|       35.0|                 0|          1|             1|       47576.0|               124.0|     46|       1|\n",
       "| 12|     0| 24|              1|       50.0|                 1|          0|             0|       48699.0|               152.0|    289|       0|\n",
       "| 13|     0| 41|              1|       15.0|                 1|          1|             0|       31409.0|                14.0|    221|       0|\n",
       "| 14|     1| 76|              1|       28.0|                 0|          1|             1|       36770.0|                13.0|     15|       0|\n",
       "| 15|     1| 71|              1|       28.0|                 1|          1|             0|       46818.0|                30.0|     58|       0|\n",
       "| 16|     1| 37|              1|        6.0|                 0|          1|             1|        2630.0|               156.0|    147|       1|\n",
       "| 17|     0| 25|              1|       45.0|                 0|          0|             1|       26218.0|               160.0|    256|       0|\n",
       "| 18|     0| 25|              1|       35.0|                 1|          0|             0|       46622.0|               152.0|    299|       0|\n",
       "| 19|     1| 42|              1|       28.0|                 0|          1|             1|       33667.0|               124.0|    158|       0|\n",
       "| 20|     0| 60|              1|       33.0|                 0|          1|             1|       32363.0|               124.0|    102|       1|\n",
       "+---+------+---+---------------+-----------+------------------+-----------+--------------+--------------+--------------------+-------+--------+\n",
       "only showing top 20 rows"
      ]
     },
     "execution_count": 33,
     "metadata": {},
     "output_type": "execute_result"
    }
   ],
   "source": [
    "#créer une fonction pour convertir le Sexe (Gender) en 0 et 1\n",
    "#1 pour 'Male' \n",
    "#0 pour 'Female'\n",
    "\n",
    "def convert_Gender(s):\n",
    "    return 1 if s=='Male' else 0\n",
    "udf_convert_Gender = udf(lambda z:convert_Gender(z))\n",
    "data=data.withColumn(\"Gender\", udf_convert_Gender(col(\"Gender\")).cast(IntegerType()))\n",
    "data\n"
   ]
  },
  {
   "cell_type": "code",
   "execution_count": 34,
   "metadata": {},
   "outputs": [
    {
     "name": "stdout",
     "output_type": "stream",
     "text": [
      "root\n",
      " |-- id: integer (nullable = true)\n",
      " |-- Gender: integer (nullable = true)\n",
      " |-- Age: integer (nullable = true)\n",
      " |-- Driving_License: integer (nullable = true)\n",
      " |-- Region_Code: double (nullable = true)\n",
      " |-- Previously_Insured: integer (nullable = true)\n",
      " |-- Vehicle_Age: integer (nullable = true)\n",
      " |-- Vehicle_Damage: integer (nullable = true)\n",
      " |-- Annual_Premium: double (nullable = true)\n",
      " |-- Policy_Sales_Channel: double (nullable = true)\n",
      " |-- Vintage: integer (nullable = true)\n",
      " |-- Response: integer (nullable = true)\n",
      "\n"
     ]
    }
   ],
   "source": [
    "#afficher le schéma de données\n",
    "data.printSchema()"
   ]
  },
  {
   "cell_type": "code",
   "execution_count": null,
   "metadata": {},
   "outputs": [],
   "source": [
    "#Créer un modèle de classification en utilisant  Régression Logistique"
   ]
  },
  {
   "cell_type": "code",
   "execution_count": null,
   "metadata": {},
   "outputs": [],
   "source": [
    "#importer les bibliothéque\n",
    "import pandas as pd\n",
    "import numpy as np\n",
    "import seaborn as sns\n",
    "import matplotlib.pyplot as plt"
   ]
  },
  {
   "cell_type": "code",
   "execution_count": null,
   "metadata": {},
   "outputs": [],
   "source": [
    "#importer les bibliothéques machine learning\n",
    "from sklearn.linear_model import LogisticRegression\n",
    "from sklearn.metrics import classification_report, accuracy_score\n",
    "from sklearn.model_selection import train_test_split"
   ]
  },
  {
   "cell_type": "code",
   "execution_count": 36,
   "metadata": {},
   "outputs": [
    {
     "data": {
      "text/html": [
       "<div>\n",
       "<style scoped>\n",
       "    .dataframe tbody tr th:only-of-type {\n",
       "        vertical-align: middle;\n",
       "    }\n",
       "\n",
       "    .dataframe tbody tr th {\n",
       "        vertical-align: top;\n",
       "    }\n",
       "\n",
       "    .dataframe thead th {\n",
       "        text-align: right;\n",
       "    }\n",
       "</style>\n",
       "<table border=\"1\" class=\"dataframe\">\n",
       "  <thead>\n",
       "    <tr style=\"text-align: right;\">\n",
       "      <th></th>\n",
       "      <th>id</th>\n",
       "      <th>Gender</th>\n",
       "      <th>Age</th>\n",
       "      <th>Driving_License</th>\n",
       "      <th>Region_Code</th>\n",
       "      <th>Previously_Insured</th>\n",
       "      <th>Vehicle_Age</th>\n",
       "      <th>Vehicle_Damage</th>\n",
       "      <th>Annual_Premium</th>\n",
       "      <th>Policy_Sales_Channel</th>\n",
       "      <th>Vintage</th>\n",
       "      <th>Response</th>\n",
       "    </tr>\n",
       "  </thead>\n",
       "  <tbody>\n",
       "    <tr>\n",
       "      <th>0</th>\n",
       "      <td>1</td>\n",
       "      <td>1</td>\n",
       "      <td>44</td>\n",
       "      <td>1</td>\n",
       "      <td>28.0</td>\n",
       "      <td>0</td>\n",
       "      <td>2</td>\n",
       "      <td>1</td>\n",
       "      <td>40454.0</td>\n",
       "      <td>26.0</td>\n",
       "      <td>217</td>\n",
       "      <td>1</td>\n",
       "    </tr>\n",
       "    <tr>\n",
       "      <th>1</th>\n",
       "      <td>2</td>\n",
       "      <td>1</td>\n",
       "      <td>76</td>\n",
       "      <td>1</td>\n",
       "      <td>3.0</td>\n",
       "      <td>0</td>\n",
       "      <td>1</td>\n",
       "      <td>0</td>\n",
       "      <td>33536.0</td>\n",
       "      <td>26.0</td>\n",
       "      <td>183</td>\n",
       "      <td>0</td>\n",
       "    </tr>\n",
       "    <tr>\n",
       "      <th>2</th>\n",
       "      <td>3</td>\n",
       "      <td>1</td>\n",
       "      <td>47</td>\n",
       "      <td>1</td>\n",
       "      <td>28.0</td>\n",
       "      <td>0</td>\n",
       "      <td>2</td>\n",
       "      <td>1</td>\n",
       "      <td>38294.0</td>\n",
       "      <td>26.0</td>\n",
       "      <td>27</td>\n",
       "      <td>1</td>\n",
       "    </tr>\n",
       "    <tr>\n",
       "      <th>3</th>\n",
       "      <td>4</td>\n",
       "      <td>1</td>\n",
       "      <td>21</td>\n",
       "      <td>1</td>\n",
       "      <td>11.0</td>\n",
       "      <td>1</td>\n",
       "      <td>0</td>\n",
       "      <td>0</td>\n",
       "      <td>28619.0</td>\n",
       "      <td>152.0</td>\n",
       "      <td>203</td>\n",
       "      <td>0</td>\n",
       "    </tr>\n",
       "    <tr>\n",
       "      <th>4</th>\n",
       "      <td>5</td>\n",
       "      <td>0</td>\n",
       "      <td>29</td>\n",
       "      <td>1</td>\n",
       "      <td>41.0</td>\n",
       "      <td>1</td>\n",
       "      <td>0</td>\n",
       "      <td>0</td>\n",
       "      <td>27496.0</td>\n",
       "      <td>152.0</td>\n",
       "      <td>39</td>\n",
       "      <td>0</td>\n",
       "    </tr>\n",
       "    <tr>\n",
       "      <th>...</th>\n",
       "      <td>...</td>\n",
       "      <td>...</td>\n",
       "      <td>...</td>\n",
       "      <td>...</td>\n",
       "      <td>...</td>\n",
       "      <td>...</td>\n",
       "      <td>...</td>\n",
       "      <td>...</td>\n",
       "      <td>...</td>\n",
       "      <td>...</td>\n",
       "      <td>...</td>\n",
       "      <td>...</td>\n",
       "    </tr>\n",
       "    <tr>\n",
       "      <th>381104</th>\n",
       "      <td>381105</td>\n",
       "      <td>1</td>\n",
       "      <td>74</td>\n",
       "      <td>1</td>\n",
       "      <td>26.0</td>\n",
       "      <td>1</td>\n",
       "      <td>1</td>\n",
       "      <td>0</td>\n",
       "      <td>30170.0</td>\n",
       "      <td>26.0</td>\n",
       "      <td>88</td>\n",
       "      <td>0</td>\n",
       "    </tr>\n",
       "    <tr>\n",
       "      <th>381105</th>\n",
       "      <td>381106</td>\n",
       "      <td>1</td>\n",
       "      <td>30</td>\n",
       "      <td>1</td>\n",
       "      <td>37.0</td>\n",
       "      <td>1</td>\n",
       "      <td>0</td>\n",
       "      <td>0</td>\n",
       "      <td>40016.0</td>\n",
       "      <td>152.0</td>\n",
       "      <td>131</td>\n",
       "      <td>0</td>\n",
       "    </tr>\n",
       "    <tr>\n",
       "      <th>381106</th>\n",
       "      <td>381107</td>\n",
       "      <td>1</td>\n",
       "      <td>21</td>\n",
       "      <td>1</td>\n",
       "      <td>30.0</td>\n",
       "      <td>1</td>\n",
       "      <td>0</td>\n",
       "      <td>0</td>\n",
       "      <td>35118.0</td>\n",
       "      <td>160.0</td>\n",
       "      <td>161</td>\n",
       "      <td>0</td>\n",
       "    </tr>\n",
       "    <tr>\n",
       "      <th>381107</th>\n",
       "      <td>381108</td>\n",
       "      <td>0</td>\n",
       "      <td>68</td>\n",
       "      <td>1</td>\n",
       "      <td>14.0</td>\n",
       "      <td>0</td>\n",
       "      <td>2</td>\n",
       "      <td>1</td>\n",
       "      <td>44617.0</td>\n",
       "      <td>124.0</td>\n",
       "      <td>74</td>\n",
       "      <td>0</td>\n",
       "    </tr>\n",
       "    <tr>\n",
       "      <th>381108</th>\n",
       "      <td>381109</td>\n",
       "      <td>1</td>\n",
       "      <td>46</td>\n",
       "      <td>1</td>\n",
       "      <td>29.0</td>\n",
       "      <td>0</td>\n",
       "      <td>1</td>\n",
       "      <td>0</td>\n",
       "      <td>41777.0</td>\n",
       "      <td>26.0</td>\n",
       "      <td>237</td>\n",
       "      <td>0</td>\n",
       "    </tr>\n",
       "  </tbody>\n",
       "</table>\n",
       "<p>381109 rows × 12 columns</p>\n",
       "</div>"
      ],
      "text/plain": [
       "            id  Gender  Age  Driving_License  Region_Code  Previously_Insured  \\\n",
       "0            1       1   44                1         28.0                   0   \n",
       "1            2       1   76                1          3.0                   0   \n",
       "2            3       1   47                1         28.0                   0   \n",
       "3            4       1   21                1         11.0                   1   \n",
       "4            5       0   29                1         41.0                   1   \n",
       "...        ...     ...  ...              ...          ...                 ...   \n",
       "381104  381105       1   74                1         26.0                   1   \n",
       "381105  381106       1   30                1         37.0                   1   \n",
       "381106  381107       1   21                1         30.0                   1   \n",
       "381107  381108       0   68                1         14.0                   0   \n",
       "381108  381109       1   46                1         29.0                   0   \n",
       "\n",
       "        Vehicle_Age  Vehicle_Damage  Annual_Premium  Policy_Sales_Channel  \\\n",
       "0                 2               1         40454.0                  26.0   \n",
       "1                 1               0         33536.0                  26.0   \n",
       "2                 2               1         38294.0                  26.0   \n",
       "3                 0               0         28619.0                 152.0   \n",
       "4                 0               0         27496.0                 152.0   \n",
       "...             ...             ...             ...                   ...   \n",
       "381104            1               0         30170.0                  26.0   \n",
       "381105            0               0         40016.0                 152.0   \n",
       "381106            0               0         35118.0                 160.0   \n",
       "381107            2               1         44617.0                 124.0   \n",
       "381108            1               0         41777.0                  26.0   \n",
       "\n",
       "        Vintage  Response  \n",
       "0           217         1  \n",
       "1           183         0  \n",
       "2            27         1  \n",
       "3           203         0  \n",
       "4            39         0  \n",
       "...         ...       ...  \n",
       "381104       88         0  \n",
       "381105      131         0  \n",
       "381106      161         0  \n",
       "381107       74         0  \n",
       "381108      237         0  \n",
       "\n",
       "[381109 rows x 12 columns]"
      ]
     },
     "execution_count": 36,
     "metadata": {},
     "output_type": "execute_result"
    }
   ],
   "source": [
    "#chargement des données\n",
    "data = data.toPandas()\n",
    "data"
   ]
  },
  {
   "cell_type": "code",
   "execution_count": 38,
   "metadata": {},
   "outputs": [
    {
     "name": "stdout",
     "output_type": "stream",
     "text": [
      "   Gender  Age  Driving_License  Region_Code  Previously_Insured  Vehicle_Age  \\\n",
      "0       1   44                1         28.0                   0            2   \n",
      "1       1   76                1          3.0                   0            1   \n",
      "2       1   47                1         28.0                   0            2   \n",
      "3       1   21                1         11.0                   1            0   \n",
      "4       0   29                1         41.0                   1            0   \n",
      "\n",
      "   Vehicle_Damage  Annual_Premium  Policy_Sales_Channel  Vintage  \n",
      "0               1         40454.0                  26.0      217  \n",
      "1               0         33536.0                  26.0      183  \n",
      "2               1         38294.0                  26.0       27  \n",
      "3               0         28619.0                 152.0      203  \n",
      "4               0         27496.0                 152.0       39  \n",
      "***********************************\n",
      "0    1\n",
      "1    0\n",
      "2    1\n",
      "3    0\n",
      "4    0\n",
      "Name: Response, dtype: int32\n"
     ]
    }
   ],
   "source": [
    "#Modéle d'entrainement\n",
    "\n",
    "#préparation de données d'entrainement\n",
    "X=data.iloc[:,1:-1]\n",
    "y=data.iloc[:,-1]\n",
    "\n",
    "#afficher les données d'entrainement\n",
    "print(X.head())\n",
    "print(y.head())"
   ]
  },
  {
   "cell_type": "code",
   "execution_count": 39,
   "metadata": {},
   "outputs": [
    {
     "name": "stdout",
     "output_type": "stream",
     "text": [
      "(304887, 10)\n",
      "(76222, 10)\n"
     ]
    }
   ],
   "source": [
    "#division de la base de donnée\n",
    "x_train , x_test , y_train , y_test = train_test_split(X, y, test_size=0.2 ,random_state = 42)\n",
    "print(x_train.shape)\n",
    "print(x_test.shape)"
   ]
  },
  {
   "cell_type": "code",
   "execution_count": null,
   "metadata": {},
   "outputs": [],
   "source": [
    "#création des module : Logistic Resgression\n",
    "model=LogisticRegression()\n",
    "model.fit(x_train,y_train)"
   ]
  },
  {
   "cell_type": "code",
   "execution_count": 41,
   "metadata": {},
   "outputs": [
    {
     "name": "stdout",
     "output_type": "stream",
     "text": [
      "[0 0 0 ... 0 0 0]\n",
      "*********\n",
      "200222    0\n",
      "49766     0\n",
      "172201    0\n",
      "160713    0\n",
      "53272     0\n",
      "         ..\n",
      "258403    0\n",
      "234155    0\n",
      "24476     0\n",
      "60423     0\n",
      "185839    0\n",
      "Name: Response, Length: 76222, dtype: int32\n"
     ]
    }
   ],
   "source": [
    "#Model de Test\n",
    "predictions = model.predict(x_test)\n",
    "print(predictions)\n",
    "print(y_test)"
   ]
  },
  {
   "cell_type": "code",
   "execution_count": null,
   "metadata": {},
   "outputs": [],
   "source": [
    "#evaluation du model\n",
    "print(classification_report(y_test,predictions))\n",
    "print(accuracy_score(y_test,predictions))"
   ]
  },
  {
   "cell_type": "code",
   "execution_count": 43,
   "metadata": {},
   "outputs": [
    {
     "name": "stdout",
     "output_type": "stream",
     "text": [
      "   Gender  Age  Driving_License  Region_Code  Previously_Insured  Vehicle_Age  \\\n",
      "0       1   44                1         28.0                   0            2   \n",
      "1       1   76                1          3.0                   0            1   \n",
      "2       1   47                1         28.0                   0            2   \n",
      "3       1   21                1         11.0                   1            0   \n",
      "4       0   29                1         41.0                   1            0   \n",
      "\n",
      "   Vehicle_Damage  Annual_Premium  Policy_Sales_Channel  Vintage  \n",
      "0               1         40454.0                  26.0      217  \n",
      "1               0         33536.0                  26.0      183  \n",
      "2               1         38294.0                  26.0       27  \n",
      "3               0         28619.0                 152.0      203  \n",
      "4               0         27496.0                 152.0       39  \n",
      "***********************************\n",
      "0    1\n",
      "1    0\n",
      "2    1\n",
      "3    0\n",
      "4    0\n",
      "Name: Response, dtype: int32\n"
     ]
    }
   ],
   "source": [
    "# création des module : Naïve Bayes\n",
    "#préparation le donnée d'entrainement\n",
    "X=data.iloc[:,1:-1]\n",
    "y=data.iloc[:,-1]\n",
    "\n",
    "#afficher les données d'entrainement\n",
    "print(X.head())\n",
    "print(y.head())"
   ]
  },
  {
   "cell_type": "code",
   "execution_count": 44,
   "metadata": {},
   "outputs": [
    {
     "name": "stdout",
     "output_type": "stream",
     "text": [
      "(304887, 10)\n",
      "(76222, 10)\n"
     ]
    }
   ],
   "source": [
    "#division de la base de donnée\n",
    "x_train , x_test , y_train , y_test = train_test_split(X, y, test_size=0.2 ,random_state = 42)\n",
    "print(x_train.shape)\n",
    "print(x_test.shape)"
   ]
  },
  {
   "cell_type": "code",
   "execution_count": 45,
   "metadata": {},
   "outputs": [],
   "source": [
    "from sklearn.naive_bayes import GaussianNB\n",
    "model = GaussianNB()"
   ]
  },
  {
   "cell_type": "code",
   "execution_count": 46,
   "metadata": {},
   "outputs": [
    {
     "data": {
      "text/plain": [
       "GaussianNB()"
      ]
     },
     "execution_count": 46,
     "metadata": {},
     "output_type": "execute_result"
    }
   ],
   "source": [
    "model.fit(x_train,y_train)"
   ]
  },
  {
   "cell_type": "code",
   "execution_count": 47,
   "metadata": {},
   "outputs": [
    {
     "name": "stdout",
     "output_type": "stream",
     "text": [
      "[0 1 0 ... 0 0 0]\n",
      "*********\n",
      "200222    0\n",
      "49766     0\n",
      "172201    0\n",
      "160713    0\n",
      "53272     0\n",
      "         ..\n",
      "258403    0\n",
      "234155    0\n",
      "24476     0\n",
      "60423     0\n",
      "185839    0\n",
      "Name: Response, Length: 76222, dtype: int32\n"
     ]
    }
   ],
   "source": [
    "#Model de test\n",
    "predictions = model.predict(x_test)\n",
    "print(predictions)\n",
    "print(y_test)"
   ]
  },
  {
   "cell_type": "code",
   "execution_count": 48,
   "metadata": {},
   "outputs": [
    {
     "name": "stdout",
     "output_type": "stream",
     "text": [
      "              precision    recall  f1-score   support\n",
      "\n",
      "           0       0.91      0.89      0.90     66699\n",
      "           1       0.31      0.36      0.34      9523\n",
      "\n",
      "    accuracy                           0.82     76222\n",
      "   macro avg       0.61      0.62      0.62     76222\n",
      "weighted avg       0.83      0.82      0.83     76222\n",
      "\n",
      "0.822374117708798\n"
     ]
    }
   ],
   "source": [
    "#evaluation du model\n",
    "print(classification_report(y_test,predictions))\n",
    "print(accuracy_score(y_test,predictions))"
   ]
  },
  {
   "cell_type": "code",
   "execution_count": 50,
   "metadata": {},
   "outputs": [
    {
     "name": "stdout",
     "output_type": "stream",
     "text": [
      "   Gender  Age  Driving_License  Region_Code  Previously_Insured  Vehicle_Age  \\\n",
      "0       1   44                1         28.0                   0            2   \n",
      "1       1   76                1          3.0                   0            1   \n",
      "2       1   47                1         28.0                   0            2   \n",
      "3       1   21                1         11.0                   1            0   \n",
      "4       0   29                1         41.0                   1            0   \n",
      "\n",
      "   Vehicle_Damage  Annual_Premium  Policy_Sales_Channel  Vintage  \n",
      "0               1         40454.0                  26.0      217  \n",
      "1               0         33536.0                  26.0      183  \n",
      "2               1         38294.0                  26.0       27  \n",
      "3               0         28619.0                 152.0      203  \n",
      "4               0         27496.0                 152.0       39  \n",
      "***********************************\n",
      "0    1\n",
      "1    0\n",
      "2    1\n",
      "3    0\n",
      "4    0\n",
      "Name: Response, dtype: int32\n"
     ]
    }
   ],
   "source": [
    "#création des module : SVM\n",
    "\n",
    "#préparation le donnée d'entrainement\n",
    "X=data.iloc[:,1:-1]\n",
    "y=data.iloc[:,-1]\n",
    "\n",
    "#afficher les données d'entrainement\n",
    "print(X.head())\n",
    "print(y.head())"
   ]
  },
  {
   "cell_type": "code",
   "execution_count": 51,
   "metadata": {},
   "outputs": [
    {
     "name": "stdout",
     "output_type": "stream",
     "text": [
      "(304887, 10)\n",
      "(76222, 10)\n"
     ]
    }
   ],
   "source": [
    "#division de la base de donnée\n",
    "x_train , x_test , y_train , y_test = train_test_split(X, y, test_size=0.2 ,random_state = 42)\n",
    "print(x_train.shape)\n",
    "print(x_test.shape)\n"
   ]
  },
  {
   "cell_type": "code",
   "execution_count": 52,
   "metadata": {},
   "outputs": [],
   "source": [
    "from sklearn.svm import SVC\n"
   ]
  },
  {
   "cell_type": "code",
   "execution_count": 53,
   "metadata": {},
   "outputs": [],
   "source": [
    "model = SVC()"
   ]
  },
  {
   "cell_type": "code",
   "execution_count": 54,
   "metadata": {},
   "outputs": [
    {
     "data": {
      "text/plain": [
       "SVC()"
      ]
     },
     "execution_count": 54,
     "metadata": {},
     "output_type": "execute_result"
    }
   ],
   "source": [
    "model.fit(x_train,y_train)"
   ]
  },
  {
   "cell_type": "code",
   "execution_count": 55,
   "metadata": {},
   "outputs": [
    {
     "name": "stdout",
     "output_type": "stream",
     "text": [
      "[0 0 0 ... 0 0 0]\n",
      "*********\n",
      "200222    0\n",
      "49766     0\n",
      "172201    0\n",
      "160713    0\n",
      "53272     0\n",
      "         ..\n",
      "258403    0\n",
      "234155    0\n",
      "24476     0\n",
      "60423     0\n",
      "185839    0\n",
      "Name: Response, Length: 76222, dtype: int32\n"
     ]
    }
   ],
   "source": [
    "#Model de Test\n",
    "predictions = model.predict(x_test)\n",
    "print(predictions)\n",
    "print(y_test)"
   ]
  },
  {
   "cell_type": "code",
   "execution_count": null,
   "metadata": {},
   "outputs": [],
   "source": [
    "#evaluation du model\n",
    "print(classification_report(y_test,predictions))\n",
    "print(accuracy_score(y_test,predictions))"
   ]
  }
 ],
 "metadata": {
  "kernelspec": {
   "display_name": "Python 3",
   "language": "python",
   "name": "python3"
  },
  "language_info": {
   "codemirror_mode": {
    "name": "ipython",
    "version": 3
   },
   "file_extension": ".py",
   "mimetype": "text/x-python",
   "name": "python",
   "nbconvert_exporter": "python",
   "pygments_lexer": "ipython3",
   "version": "3.8.8"
  }
 },
 "nbformat": 4,
 "nbformat_minor": 4
}
